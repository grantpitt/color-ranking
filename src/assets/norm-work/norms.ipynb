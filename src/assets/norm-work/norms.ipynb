{
 "cells": [
  {
   "cell_type": "code",
   "execution_count": 6,
   "metadata": {},
   "outputs": [
    {
     "name": "stderr",
     "output_type": "stream",
     "text": [
      "100%|██████████| 22875/22875 [00:08<00:00, 2596.34it/s]\n"
     ]
    }
   ],
   "source": [
    "import json\n",
    "import numpy as np\n",
    "from tqdm import tqdm\n",
    "\n",
    "with open(\"../filtered-p3 2.json\") as file:\n",
    "    colors = json.load(file)\n",
    "\n",
    "# colors = colors[:10]\n",
    "\n",
    "codes = np.array([color[\"code\"] for color in colors])\n",
    "labs = np.array([color[\"lab\"] for color in colors])\n",
    "\n",
    "radius = 10\n",
    "norms_data = {}\n",
    "for i, lab in enumerate(tqdm(labs)):\n",
    "    dists = np.linalg.norm(labs - lab, axis=1)\n",
    "    args = np.argwhere(dists < radius).flatten()\n",
    "    norms_data[codes[i]] = dict(zip(codes[args], dists[args]))\n",
    "\n",
    "with open(\"norms.json\", \"w\") as file:\n",
    "    json.dump(norms_data, file)\n"
   ]
  }
 ],
 "metadata": {
  "kernelspec": {
   "display_name": "Python 3.9.7 ('base')",
   "language": "python",
   "name": "python3"
  },
  "language_info": {
   "codemirror_mode": {
    "name": "ipython",
    "version": 3
   },
   "file_extension": ".py",
   "mimetype": "text/x-python",
   "name": "python",
   "nbconvert_exporter": "python",
   "pygments_lexer": "ipython3",
   "version": "3.9.7"
  },
  "orig_nbformat": 4,
  "vscode": {
   "interpreter": {
    "hash": "c6e4e9f98eb68ad3b7c296f83d20e6de614cb42e90992a65aa266555a3137d0d"
   }
  }
 },
 "nbformat": 4,
 "nbformat_minor": 2
}
